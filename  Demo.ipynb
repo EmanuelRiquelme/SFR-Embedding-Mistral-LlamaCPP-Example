{
 "cells": [
  {
   "cell_type": "code",
   "execution_count": null,
   "id": "8eef9dfd-97c4-4239-94b5-3c6df6aa997c",
   "metadata": {},
   "outputs": [],
   "source": [
    "!pip3 install -q -r requirements.txt\n",
    "!pip3 install -q huggingface-hub\n",
    "!huggingface-cli download TheBloke/Mistral-7B-Instruct-v0.2-GGUF mistral-7b-instruct-v0.2.Q4_K_M.gguf --local-dir . --local-dir-use-symlinks False\n",
    "!huggingface-cli download dranger003/SFR-Embedding-Mistral-GGUF ggml-sfr-embedding-mistral-q4_k_m.gguf --local-dir . --local-dir-use-symlinks False"
   ]
  },
  {
   "cell_type": "code",
   "execution_count": null,
   "id": "0c570636-fc89-4c24-a05b-b1e39bbef79d",
   "metadata": {},
   "outputs": [],
   "source": [
    "from langchain_community.embeddings import HuggingFaceEmbeddings\n",
    "import torch\n",
    "from langchain_community.document_loaders import PyPDFLoader\n",
    "from langchain.text_splitter import RecursiveCharacterTextSplitter\n",
    "from langchain.vectorstores.chroma import Chroma\n",
    "from numba import cuda\n",
    "import os\n",
    "from langchain.schema import (\n",
    "    SystemMessage,\n",
    "    HumanMessage,\n",
    "    AIMessage\n",
    ")\n",
    "from langchain.prompts import ChatPromptTemplate\n",
    "from langchain.embeddings import HuggingFaceInstructEmbeddings\n",
    "from langchain_community.embeddings import LlamaCppEmbeddings"
   ]
  },
  {
   "cell_type": "code",
   "execution_count": null,
   "id": "3b186566-5e3a-48d9-b8e8-d05bf6aa1068",
   "metadata": {},
   "outputs": [],
   "source": [
    "def create_vector_emb(pdf_file,chunk_size = 300):\n",
    "    model = LlamaCppEmbeddings(model_path='ggml-sfr-embedding-mistral-q4_k_m.gguf',n_gpu_layers=-1)\n",
    "    loader = PyPDFLoader(pdf_file)\n",
    "    doc = loader.load_and_split()\n",
    "    chunk_size\n",
    "    text_splitter = RecursiveCharacterTextSplitter(\n",
    "            chunk_size=chunk_size,\n",
    "            chunk_overlap=50,\n",
    "            length_function=len,\n",
    "            add_start_index=True,\n",
    "        )\n",
    "    chunks = text_splitter.split_documents(doc)\n",
    "    DB_file_name = f\"{pdf_file.split('/')[-1].split('.')[0]}\"\n",
    "    db = Chroma.from_documents(\n",
    "            chunks, model, persist_directory=DB_file_name\n",
    "        )\n",
    "    db.persist()\n",
    "    print('db created sucessfuly')\n",
    "    del model\n",
    "\n",
    "    device = cuda.get_current_device()\n",
    "    device.reset()"
   ]
  },
  {
   "cell_type": "code",
   "execution_count": null,
   "id": "b3d60cdc-a475-4eb2-a815-6d97cbd93c83",
   "metadata": {},
   "outputs": [],
   "source": [
    "pdf_file_name = 'American-Fiction-Read-The-Screenplay.pdf'\n",
    "DB_file_name = pdf_file_name.split('/')[-1].split('.')[0]\n",
    "#create the vector embeddings of the PDF\n",
    "if not os.path.exists(DB_file_name):\n",
    "    print('creating db embeddings')\n",
    "    create_vector_emb(pdf_file_name)\n",
    "    print('vector embeddings created')\n",
    "else:\n",
    "    print('vector embeddings already exist')"
   ]
  },
  {
   "cell_type": "code",
   "execution_count": null,
   "id": "bc86809c-3724-4f87-ba8b-496ed11b91a1",
   "metadata": {},
   "outputs": [],
   "source": [
    "model = LlamaCppEmbeddings(model_path='ggml-sfr-embedding-mistral-q4_k_m.gguf')"
   ]
  },
  {
   "cell_type": "code",
   "execution_count": null,
   "id": "e0b3f106-c163-4cc9-84d3-3331a3d70a0d",
   "metadata": {},
   "outputs": [],
   "source": [
    "DB_file_name = 'American-Fiction-Read-The-Screenplay_150'\n",
    "db = Chroma(persist_directory=DB_file_name, embedding_function=model)"
   ]
  },
  {
   "cell_type": "code",
   "execution_count": null,
   "id": "2246c7e4-597e-4d4f-a310-523f3c664022",
   "metadata": {},
   "outputs": [],
   "source": [
    "question = 'what dataset was used to train the model'\n",
    "results = db.similarity_search_with_relevance_scores(question, k=80)"
   ]
  },
  {
   "cell_type": "code",
   "execution_count": null,
   "id": "476f7e20-f2d0-4a02-8b52-4a966322bf29",
   "metadata": {},
   "outputs": [],
   "source": [
    "from langchain_community.llms import LlamaCpp\n",
    "#In this case I'm parsing the whole LLM to the gpu\n",
    "n_gpu_layers = -1\n",
    "n_batch = 512\n",
    "model_path = 'mistral-7b-instruct-v0.2.Q4_K_M.gguf'\n",
    "llm = LlamaCpp(\n",
    "    model_path=model_path,\n",
    "    n_gpu_layers=n_gpu_layers,\n",
    "    n_batch=n_batch,\n",
    "    temperature=.5,\n",
    "    n_ctx=10000,\n",
    ")"
   ]
  },
  {
   "cell_type": "code",
   "execution_count": null,
   "id": "32f8cbc4-8e28-49a7-be47-05a5d0fd78f2",
   "metadata": {},
   "outputs": [],
   "source": [
    "PROMPT_TEMPLATE = \"\"\"\n",
    "Answer the question based only on the following context:\n",
    "\n",
    "{context}\n",
    "\n",
    "---\n",
    "\n",
    "Answer the question based on the above context: {question}\n",
    "\"\"\"\n",
    "def get_prompt(question):\n",
    "    #TODO find a tricker way to find better queries using to optimize context size\n",
    "    #k=80\n",
    "    results = db.similarity_search_with_relevance_scores(question, k=100)\n",
    "    context_text= \"\\n\\n---\\n\\n\".join([doc.page_content for doc, _score in results])\n",
    "    prompt_template = ChatPromptTemplate.from_template(PROMPT_TEMPLATE)\n",
    "    prompt = prompt_template.format(context=context_text, question=question)\n",
    "    #return HumanMessage(content=prompt)\n",
    "    return prompt"
   ]
  },
  {
   "cell_type": "code",
   "execution_count": null,
   "id": "43626b33-5ec6-4187-80f3-b5987d80f438",
   "metadata": {},
   "outputs": [],
   "source": [
    "prompt = get_prompt('How many african-american characters are there?')\n",
    "prompt = prompt[8:]\n",
    "llm.invoke(prompt)"
   ]
  }
 ],
 "metadata": {
  "kernelspec": {
   "display_name": "Python 3 (ipykernel)",
   "language": "python",
   "name": "python3"
  },
  "language_info": {
   "codemirror_mode": {
    "name": "ipython",
    "version": 3
   },
   "file_extension": ".py",
   "mimetype": "text/x-python",
   "name": "python",
   "nbconvert_exporter": "python",
   "pygments_lexer": "ipython3",
   "version": "3.11.5"
  }
 },
 "nbformat": 4,
 "nbformat_minor": 5
}
